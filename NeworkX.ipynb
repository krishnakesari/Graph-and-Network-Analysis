import numpy
import networkx as nx

G = nx.Graph()

a = numpy.reshape(numpy.random.random_integers(0,1, size = 100), (10,10))
D = nx.DiGraph(a)
